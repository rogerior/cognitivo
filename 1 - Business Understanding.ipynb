{
 "cells": [
  {
   "cell_type": "markdown",
   "metadata": {},
   "source": [
    "# Problema"
   ]
  },
  {
   "cell_type": "markdown",
   "metadata": {},
   "source": [
    "> O presente problema se refere aos dados de vinhos portugueses \"Vinho Verde\", que possuem variantes de vinho branco e tinto. Devido a questões de privacidade, apenas variáveis físico-químicas (input) e sensoriais (output) estão disponíveis (por exemplo, não há dados sobre tipo de uva, marca do vinho, preço de venda, etc).\n"
   ]
  },
  {
   "cell_type": "markdown",
   "metadata": {},
   "source": [
    "# Objetivo"
   ]
  },
  {
   "cell_type": "markdown",
   "metadata": {},
   "source": [
    "> Criar um modelo para estimar a qualidade do vinho."
   ]
  },
  {
   "cell_type": "markdown",
   "metadata": {},
   "source": [
    "# Informação sobre os atributos"
   ]
  },
  {
   "cell_type": "markdown",
   "metadata": {},
   "source": [
    "Variáveis input (baseado em testes físico-químicos):\n",
    "1. Tipo\n",
    "2. Acidez fixa\n",
    "3. Volatilidade da acidez\n",
    "4. Ácido cítrico\n",
    "5. Açúcar residual\n",
    "6. Cloretos\n",
    "7. Dióxido de enxofre livre\n",
    "8. Dióxido de enxofre total\n",
    "9. Densidade\n",
    "10. pH\n",
    "11. Sulfatos\n",
    "12. Álcool\n",
    "\n",
    "Variável output (baseado em dado sensorial):\n",
    "\n",
    "13. Qualidade (score entre 0 and 10)"
   ]
  },
  {
   "cell_type": "markdown",
   "metadata": {},
   "source": [
    "# Resolução"
   ]
  },
  {
   "cell_type": "markdown",
   "metadata": {},
   "source": [
    "> 1. Faça uma análise exploratória para avaliar a consistência dos dados e identificar possíveis variáveis que impactam na qualidade do vinho.\n",
    "> 2. Para a realização deste teste você pode utilizar o software de sua preferência (Python ou R), só pedimos que compartilhe conosco o código fonte (utilizando um repositório git). Além disso, inclua um arquivo README.md onde você deve cobrir as respostas para os 5 pontos abaixo:\n",
    "\n",
    "> a. Como foi a definição da sua estratégia de modelagem?\n",
    "\n",
    "> b. Como foi definida a função de custo utilizada?\n",
    "\n",
    "> c. Qual foi o critério utilizado na seleção do modelo final?\n",
    "\n",
    "> d. Qual foi o critério utilizado para validação do modelo? Por que escolheu utilizar\n",
    "este método?\n",
    "\n",
    "> e. Quais evidências você possui de que seu modelo é suficientemente bom?"
   ]
  }
 ],
 "metadata": {
  "kernelspec": {
   "display_name": "Python 3",
   "language": "python",
   "name": "python3"
  },
  "language_info": {
   "codemirror_mode": {
    "name": "ipython",
    "version": 3
   },
   "file_extension": ".py",
   "mimetype": "text/x-python",
   "name": "python",
   "nbconvert_exporter": "python",
   "pygments_lexer": "ipython3",
   "version": "3.7.3"
  }
 },
 "nbformat": 4,
 "nbformat_minor": 4
}
